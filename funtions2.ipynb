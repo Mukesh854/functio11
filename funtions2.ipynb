{
 "cells": [
  {
   "cell_type": "markdown",
   "id": "5fb86808-939c-44c3-b460-69c65be9200d",
   "metadata": {},
   "source": [
    "Q1. Create a python program to sort the given list of tuples based on integer value using a\n",
    "lambda function.\n",
    "[('Sachin Tendulkar', 34357), ('Ricky Ponting', 27483), ('Jack Kallis', 25534), ('Virat Kohli', 24936)]"
   ]
  },
  {
   "cell_type": "code",
   "execution_count": 3,
   "id": "dc0b742b-6fca-42b0-af7a-eb4fd7172205",
   "metadata": {},
   "outputs": [
    {
     "data": {
      "text/plain": [
       "[('Sachin Tendulkar', 34357),\n",
       " ('Ricky Ponting', 27483),\n",
       " ('Jack Kallis', 25534),\n",
       " ('Virat Kohli', 24936)]"
      ]
     },
     "execution_count": 3,
     "metadata": {},
     "output_type": "execute_result"
    }
   ],
   "source": [
    "list=[('Sachin Tendulkar', 34357), ('Ricky Ponting', 27483), ('Jack Kallis', 25534), ('Virat Kohli', 24936)]\n",
    "list\n"
   ]
  },
  {
   "cell_type": "code",
   "execution_count": 9,
   "id": "42aa12b4-e873-447e-81ac-d13ca32d5a9d",
   "metadata": {},
   "outputs": [
    {
     "name": "stdout",
     "output_type": "stream",
     "text": [
      "[('Virat Kohli', 24936), ('Jack Kallis', 25534), ('Ricky Ponting', 27483), ('Sachin Tendulkar', 34357)]\n"
     ]
    }
   ],
   "source": [
    "runs=sorted(list, key=lambda x:x[1])\n",
    "print(runs)"
   ]
  },
  {
   "cell_type": "markdown",
   "id": "6e8af6a1-3240-4044-9323-e1dc96e6bcc9",
   "metadata": {},
   "source": [
    "Q2. Write a Python Program to find the squares of all the numbers in the given list of integers using\n",
    "lambda and map functions.\n",
    "[1, 2, 3, 4, 5, 6, 7, 8, 9, 10]"
   ]
  },
  {
   "cell_type": "code",
   "execution_count": 45,
   "id": "9eebf991-118a-4064-a387-89c57eabd3da",
   "metadata": {},
   "outputs": [
    {
     "name": "stdout",
     "output_type": "stream",
     "text": [
      "(1, 4, 9, 16, 25, 36, 49, 64, 81, 100)\n"
     ]
    }
   ],
   "source": [
    "numbers=[1, 2, 3, 4, 5, 6, 7, 8, 9, 10]\n",
    "\n",
    "sqrt=map(lambda x : x**2,numbers)\n",
    "\n",
    "\n",
    "#sir it is showing error when in list that's why i am converting it in tuple\n",
    "\n",
    "print(tuple(sqrt))\n",
    "      \n"
   ]
  },
  {
   "cell_type": "markdown",
   "id": "35224a19-f312-40d3-81fe-22415bfa27a0",
   "metadata": {},
   "source": [
    "Q3. Write a python program to convert the given list of integers into a tuple of strings. Use map and\n",
    "lambda functions\n",
    "Given String: [1, 2, 3, 4, 5, 6, 7, 8, 9, 10]\n",
    "Expected output: ('1', '2', '3', '4', '5', '6', '7', '8', '9', '10')"
   ]
  },
  {
   "cell_type": "code",
   "execution_count": 55,
   "id": "b330dcae-7766-4b69-9edc-1b92857a9b56",
   "metadata": {},
   "outputs": [
    {
     "name": "stdout",
     "output_type": "stream",
     "text": [
      "('1', '2', '3', '4', '5', '6', '7', '8', '9', '10')\n"
     ]
    }
   ],
   "source": [
    "m1=[1, 2, 3, 4, 5, 6, 7, 8, 9, 10]\n",
    "\n",
    "string_tuple = tuple(map(lambda x: str(x), numbers))\n",
    "print(string_tuple)"
   ]
  },
  {
   "cell_type": "markdown",
   "id": "e37f10a1-4e80-4720-a376-f6f979bfa625",
   "metadata": {},
   "source": [
    "Q4. Write a python program using reduce function to compute the product of a list containing numbers\n",
    "from 1 to 25."
   ]
  },
  {
   "cell_type": "code",
   "execution_count": 59,
   "id": "a9773309-b491-4f0a-b5cb-65b530d9fbec",
   "metadata": {},
   "outputs": [
    {
     "name": "stdout",
     "output_type": "stream",
     "text": [
      "15511210043330985984000000\n"
     ]
    }
   ],
   "source": [
    "from functools import reduce\n",
    "num_bers=[1,2,3,4,5,6,7,8,9,10,11,12,13,14,15,16,17,18,19,20,21,22,23,24,25]\n",
    "product=reduce(lambda x,y:x*y,num_bers)\n",
    "print(product)"
   ]
  },
  {
   "cell_type": "markdown",
   "id": "ef391b72-836b-4403-9449-b00edf2edce5",
   "metadata": {},
   "source": [
    "Q5. Write a python program to filter the numbers in a given list that are divisible by 2 and 3 using the\n",
    "filter function.\n",
    "[2, 3, 6, 9, 27, 60, 90, 120, 55, 46]"
   ]
  },
  {
   "cell_type": "code",
   "execution_count": 67,
   "id": "fcab9bec-0cb0-4711-950a-917223af3ad2",
   "metadata": {},
   "outputs": [
    {
     "name": "stdout",
     "output_type": "stream",
     "text": [
      "(2, 6, 60, 90, 120, 46)\n",
      "(3, 6, 9, 27, 60, 90, 120)\n"
     ]
    }
   ],
   "source": [
    "bars=[2, 3, 6, 9, 27, 60, 90, 120, 55, 46]\n",
    "\n",
    "divisible=filter(lambda x: x%2==0,bars)\n",
    "print(tuple(divisible))\n",
    "divisible_by3=filter(lambda x: x%3==0,bars)\n",
    "print(tuple(divisible_by3))"
   ]
  },
  {
   "cell_type": "code",
   "execution_count": 69,
   "id": "c99d8595-68af-4ebb-ad6e-e56871743578",
   "metadata": {},
   "outputs": [
    {
     "name": "stdout",
     "output_type": "stream",
     "text": [
      "(6, 60, 90, 120)\n"
     ]
    }
   ],
   "source": [
    "def marks(num):\n",
    "    return num%2==0 and num%3==0\n",
    "muk=[2, 3, 6, 9, 27, 60, 90, 120, 55, 46]\n",
    "divide=filter(marks, muk)\n",
    "print(tuple(divide))\n"
   ]
  },
  {
   "cell_type": "markdown",
   "id": "83ff06ab-6a0d-477e-a45b-4b05ddf3de2a",
   "metadata": {},
   "source": [
    "Q6. Write a python program to find palindromes in the given list of strings using lambda and filter\n",
    "function.\n",
    "['python', 'php', 'aba', 'radar', 'level']"
   ]
  },
  {
   "cell_type": "code",
   "execution_count": 71,
   "id": "63c205a0-5077-4751-86b7-4899885accf0",
   "metadata": {},
   "outputs": [
    {
     "name": "stdout",
     "output_type": "stream",
     "text": [
      "('python', 'php', 'aba', 'radar', 'level')\n"
     ]
    }
   ],
   "source": [
    "str=['python', 'php', 'aba', 'radar', 'level']\n",
    "\n",
    "palindromes=lambda x:x[::-1]\n",
    "\n",
    "my_palin=filter(palindromes,str)\n",
    "print(tuple(my_palin))"
   ]
  },
  {
   "cell_type": "code",
   "execution_count": null,
   "id": "cfd81357-5e9a-4240-a4a5-82d725d0aeb4",
   "metadata": {},
   "outputs": [],
   "source": []
  }
 ],
 "metadata": {
  "kernelspec": {
   "display_name": "Python 3 (ipykernel)",
   "language": "python",
   "name": "python3"
  },
  "language_info": {
   "codemirror_mode": {
    "name": "ipython",
    "version": 3
   },
   "file_extension": ".py",
   "mimetype": "text/x-python",
   "name": "python",
   "nbconvert_exporter": "python",
   "pygments_lexer": "ipython3",
   "version": "3.10.8"
  }
 },
 "nbformat": 4,
 "nbformat_minor": 5
}
